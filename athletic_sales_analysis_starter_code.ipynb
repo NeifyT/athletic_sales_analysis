{
 "cells": [
  {
   "cell_type": "code",
   "execution_count": null,
   "metadata": {},
   "outputs": [],
   "source": [
    "# Import Libraries and Dependencies\n",
    "import pandas as pd\n",
    "\n",
    "## as per classwork/instruction suggested to wrap paths for cross-platform compatability\n",
    "from pathlib import Path"
   ]
  },
  {
   "cell_type": "markdown",
   "metadata": {},
   "source": [
    "### 1. Combine and Clean the Data\n",
    "#### Import CSVs"
   ]
  },
  {
   "cell_type": "code",
   "execution_count": null,
   "metadata": {},
   "outputs": [],
   "source": [
    "# Read the CSV files into DataFrames.\n",
    "\n",
    "## setting path variables wrapped in Path package\n",
    "sales2020_path = Path(\"Resources/athletic_sales_2020.csv\")\n",
    "sales2021_path = Path(\"Resources/athletic_sales_2021.csv\")\n",
    "\n",
    "## and reading files\n",
    "sales2020 = pd.read_csv(sales2020_path)\n",
    "sales2021 = pd.read_csv(sales2021_path)"
   ]
  },
  {
   "cell_type": "code",
   "execution_count": null,
   "metadata": {},
   "outputs": [],
   "source": [
    "# Display the 2020 sales DataFrame\n",
    "sales2020"
   ]
  },
  {
   "cell_type": "code",
   "execution_count": null,
   "metadata": {},
   "outputs": [],
   "source": [
    "# Display the 2021 sales DataFrame\n",
    "sales2021"
   ]
  },
  {
   "cell_type": "markdown",
   "metadata": {},
   "source": [
    "#### Check the data types of each DataFrame"
   ]
  },
  {
   "cell_type": "code",
   "execution_count": null,
   "metadata": {},
   "outputs": [],
   "source": [
    "# Check the 2020 sales data types.\n",
    "sales2020.dtypes"
   ]
  },
  {
   "cell_type": "code",
   "execution_count": null,
   "metadata": {},
   "outputs": [],
   "source": [
    "# Check the 2021 sales data types.\n",
    "sales2021.dtypes"
   ]
  },
  {
   "cell_type": "markdown",
   "metadata": {},
   "source": [
    "#### Combine the sales data by rows."
   ]
  },
  {
   "cell_type": "code",
   "execution_count": null,
   "metadata": {},
   "outputs": [],
   "source": [
    "# Combine the 2020 and 2021 sales DataFrames on the rows and reset the index.\n",
    "sales = pd.concat([sales2020, sales2021], join=\"inner\")\n",
    "\n",
    "sales.reset_index()"
   ]
  },
  {
   "cell_type": "code",
   "execution_count": null,
   "metadata": {},
   "outputs": [],
   "source": [
    "# Check if any values are null.\n",
    "sales.count()"
   ]
  },
  {
   "cell_type": "code",
   "execution_count": null,
   "metadata": {},
   "outputs": [],
   "source": [
    "# Check the data type of each column\n",
    "sales.dtypes"
   ]
  },
  {
   "cell_type": "code",
   "execution_count": null,
   "metadata": {},
   "outputs": [],
   "source": [
    "# Convert the \"invoice_date\" to a datetime datatype\n",
    "sales[\"invoice_date\"] = pd.to_datetime(sales[\"invoice_date\"], format=\"%m/%d/%y\")"
   ]
  },
  {
   "cell_type": "code",
   "execution_count": null,
   "metadata": {},
   "outputs": [],
   "source": [
    "# Confirm that the \"invoice_date\" data type has been changed.\n",
    "print(sales[\"invoice_date\"].dtypes)"
   ]
  },
  {
   "cell_type": "markdown",
   "metadata": {},
   "source": [
    "### 2. Determine which Region Sold the Most Products"
   ]
  },
  {
   "cell_type": "markdown",
   "metadata": {},
   "source": [
    "#### Using `groupby`"
   ]
  },
  {
   "cell_type": "code",
   "execution_count": null,
   "metadata": {},
   "outputs": [],
   "source": [
    "# Show the number products sold for region, state, and city.\n",
    "\n",
    "## One way to ensure Output as DataFrame so as to be able to set the single column name below\n",
    "most_products_group = pd.DataFrame(sales.groupby([\"region\", \"state\", \"city\"])[\"units_sold\"].sum())\n",
    "\n",
    "# Rename the sum to \"Total_Products_Sold\".\n",
    "most_products_group.columns = [\"Total_Products_Sold\"]\n",
    "\n",
    "# Show the top 5 results.\n",
    "most_products_group.sort_values(\"Total_Products_Sold\", ascending=False, inplace=True)\n",
    "most_products_group.head()"
   ]
  },
  {
   "cell_type": "markdown",
   "metadata": {},
   "source": [
    "#### Using `pivot_table`"
   ]
  },
  {
   "cell_type": "code",
   "execution_count": null,
   "metadata": {},
   "outputs": [],
   "source": [
    "# Show the number products sold for region, state, and city.\n",
    "most_products_pivot = pd.pivot_table(data=sales, index=[\"region\", \"state\", \"city\"], aggfunc={\"units_sold\" : \"sum\"})\n",
    "\n",
    "# Rename the \"units_sold\" column to \"Total_Products_Sold\"\n",
    "most_products_pivot.columns = [\"Total_Products_Sold\"]\n",
    "\n",
    "# Show the top 5 results.\n",
    "most_products_pivot.sort_values(\"Total_Products_Sold\", ascending=False, inplace=True)\n",
    "most_products_pivot.head()"
   ]
  },
  {
   "cell_type": "markdown",
   "metadata": {},
   "source": [
    "### 3. Determine which Region had the Most Sales"
   ]
  },
  {
   "cell_type": "markdown",
   "metadata": {},
   "source": [
    "#### Using `groupby`"
   ]
  },
  {
   "cell_type": "code",
   "execution_count": null,
   "metadata": {},
   "outputs": [],
   "source": [
    "# Show the total sales for the products sold for each region, state, and city.\n",
    "\n",
    "## Another way to ensure Output as Dataframe by using [[]] notation on the single column\n",
    "total_sales_group = sales.groupby([\"region\", \"state\", \"city\"])[[\"total_sales\"]].sum()\n",
    "\n",
    "# Rename the \"total_sales\" column to \"Total Sales\"\n",
    "total_sales_group.columns = [\"Total Sales\"]\n",
    "\n",
    "# Show the top 5 results.\n",
    "total_sales_group.sort_values(\"Total Sales\", ascending=False, inplace=True)\n",
    "total_sales_group.head()"
   ]
  },
  {
   "cell_type": "markdown",
   "metadata": {},
   "source": [
    "#### Using `pivot_table`"
   ]
  },
  {
   "cell_type": "code",
   "execution_count": null,
   "metadata": {},
   "outputs": [],
   "source": [
    "# Show the total sales for the products sold for each region, state, and city.\n",
    "total_sales_pivot = pd.pivot_table(data=sales, index=[\"region\", \"state\", \"city\"], aggfunc={\"total_sales\" : \"sum\"})\n",
    "\n",
    "# Optional: Rename the \"total_sales\" column to \"Total Sales\"\n",
    "total_sales_pivot.columns = [\"Total Sales\"]\n",
    "\n",
    "# Show the top 5 results.\n",
    "total_sales_pivot.sort_values(\"Total Sales\", ascending=False, inplace=True)\n",
    "total_sales_pivot.head()"
   ]
  },
  {
   "cell_type": "markdown",
   "metadata": {
    "tags": []
   },
   "source": [
    "### 4. Determine which Retailer had the Most Sales"
   ]
  },
  {
   "cell_type": "markdown",
   "metadata": {},
   "source": [
    "#### Using `groupby`"
   ]
  },
  {
   "cell_type": "code",
   "execution_count": null,
   "metadata": {},
   "outputs": [],
   "source": [
    "# Show the total sales for the products sold for each retailer, region, state, and city.\n",
    "\n",
    "## Or even use the .agg() method to ensure Output as Dataframe\n",
    "retailer_sales_group = sales.groupby([\"retailer\", \"region\", \"state\", \"city\"]).agg({\"total_sales\" : \"sum\"})\n",
    "\n",
    "# Rename the \"total_sales\" column to \"Total Sales\"\n",
    "retailer_sales_group.columns = [\"Total Sales\"]\n",
    "\n",
    "# Show the top 5 results.\n",
    "retailer_sales_group.sort_values(\"Total Sales\", ascending=False, inplace=True)\n",
    "retailer_sales_group.head()"
   ]
  },
  {
   "cell_type": "markdown",
   "metadata": {},
   "source": [
    "#### Using `pivot_table`"
   ]
  },
  {
   "cell_type": "code",
   "execution_count": null,
   "metadata": {},
   "outputs": [],
   "source": [
    "# Show the total sales for the products sold for each retailer, region, state, and city.\n",
    "retailer_sales_pivot = pd.pivot_table(data=sales, index=[\"retailer\", \"region\", \"state\", \"city\"], aggfunc={\"total_sales\" : \"sum\"})\n",
    "\n",
    "# Optional: Rename the \"total_sales\" column to \"Total Sales\"\n",
    "retailer_sales_pivot.columns = [\"Total Sales\"]\n",
    "\n",
    "# Show the top 5 results.\n",
    "retailer_sales_pivot.sort_values(\"Total Sales\", ascending=False, inplace=True)\n",
    "retailer_sales_pivot.head()"
   ]
  },
  {
   "cell_type": "markdown",
   "metadata": {},
   "source": [
    "### 5. Determine which Retailer Sold the Most Women's Athletic Footwear"
   ]
  },
  {
   "cell_type": "code",
   "execution_count": null,
   "metadata": {},
   "outputs": [],
   "source": [
    "# Filter the sales data to get the women's athletic footwear sales data.\n",
    "\n",
    "## Women's Atheletic Footwear (waf)\n",
    "waf_sales = sales.loc[sales[\"product\"].str.contains(\"Women's Athletic Footwear\", regex=False)]\n",
    "## For cleaner review just showing product column, verified is only Women's Athletic Footwear\n",
    "waf_sales[\"product\"]"
   ]
  },
  {
   "cell_type": "markdown",
   "metadata": {},
   "source": [
    "#### Using `groupby`"
   ]
  },
  {
   "cell_type": "code",
   "execution_count": null,
   "metadata": {},
   "outputs": [],
   "source": [
    "# Show the total number of women's athletic footwear sold for each retailer, region, state, and city.\n",
    "\n",
    "## of the three methods already demonstrated this one is most ellegant to me, but will be harder to remember\n",
    "waf_products_group = waf_sales.groupby([\"retailer\", \"region\", \"state\", \"city\"])[[\"units_sold\"]].sum()\n",
    "\n",
    "# Rename the \"units_sold\" column to \"Womens_Footwear_Units_Sold\"\n",
    "waf_products_group.columns = [\"Womens_Footwear_Units_Sold\"]\n",
    "\n",
    "# Show the top 5 results.\n",
    "waf_products_group.sort_values(\"Womens_Footwear_Units_Sold\", ascending=False, inplace=True)\n",
    "waf_products_group.head()"
   ]
  },
  {
   "cell_type": "markdown",
   "metadata": {},
   "source": [
    "#### Using `pivot_table`"
   ]
  },
  {
   "cell_type": "code",
   "execution_count": null,
   "metadata": {},
   "outputs": [],
   "source": [
    "# Show the total number of women's athletic footwear sold for each retailer, region, state, and city.\n",
    "waf_products_pivot = pd.pivot_table(data=waf_sales, index=[\"retailer\", \"region\", \"state\", \"city\"], aggfunc={\"units_sold\" : \"sum\"})\n",
    "\n",
    "# Rename the \"units_sold\" column to \"Womens_Footwear_Units_Sold\"\n",
    "waf_products_pivot.columns = [\"Womens_Footwear_Units_Sold\"]\n",
    "\n",
    "# Show the top 5 results.\n",
    "waf_products_pivot.sort_values(\"Womens_Footwear_Units_Sold\", ascending=False, inplace=True)\n",
    "waf_products_pivot.head()"
   ]
  },
  {
   "cell_type": "markdown",
   "metadata": {},
   "source": [
    "### 5. Determine the Day with the Most Women's Athletic Footwear Sales"
   ]
  },
  {
   "cell_type": "code",
   "execution_count": null,
   "metadata": {},
   "outputs": [],
   "source": [
    "# Create a pivot table with the 'invoice_date' column is the index, and the \"total_sales\" as the values.\n",
    "waf_by_date = pd.pivot_table(data=waf_sales, index=[\"invoice_date\"], values=[\"total_sales\"], aggfunc={\"total_sales\" : \"sum\"})\n",
    "\n",
    "# Optional: Rename the \"total_sales\" column to \"Total Sales\"\n",
    "waf_by_date.columns = [\"Total Sales\"]\n",
    "\n",
    "# Show the table.\n",
    "waf_by_date"
   ]
  },
  {
   "cell_type": "code",
   "execution_count": null,
   "metadata": {},
   "outputs": [],
   "source": [
    "# Resample the pivot table into daily bins, and get the total sales for each day.\n",
    "waf_by_day = waf_by_date.resample(\"D\").sum()\n",
    "\n",
    "# Sort the resampled pivot table in ascending order on \"Total Sales\".\n",
    "waf_by_day.sort_values(\"Total Sales\", ascending=False, inplace=True)\n",
    "waf_by_day.head(10)"
   ]
  },
  {
   "cell_type": "markdown",
   "metadata": {},
   "source": [
    "### 6.  Determine the Week with the Most Women's Athletic Footwear Sales"
   ]
  },
  {
   "cell_type": "code",
   "execution_count": null,
   "metadata": {},
   "outputs": [],
   "source": [
    "# Resample the pivot table into weekly bins, and get the total sales for each week.\n",
    "waf_by_week = waf_by_date.resample(\"W\").sum()\n",
    "\n",
    "# Sort the resampled pivot table in ascending order on \"Total Sales\".\n",
    "waf_by_week.sort_values(\"Total Sales\", ascending=False, inplace=True)\n",
    "waf_by_week.head(10)"
   ]
  },
  {
   "cell_type": "code",
   "execution_count": null,
   "metadata": {},
   "outputs": [],
   "source": [
    "## While I don't see a request for a summary as the prior challenge requested, seems one would make sense."
   ]
  },
  {
   "cell_type": "markdown",
   "metadata": {},
   "source": [
    "# Summary\n",
    "\n",
    "We can now answer the questions:\n",
    "1. The top 5 athletic wear retailers were West Gear in San Francisco, Kohl's in Los Angeles, Foot Locker in New York, West Gear in Seattle, and Foot Locker in Charleston.\n",
    "2. The retailers which sold the most Women's Athletic Footwear were West Gear in San Francisco, Foot Locker in New York, Kohl's in Los Angeles, Foot Locker in Charleston, and Sports Direct in Dallas.\n",
    "3. The highest day for sales of Women's Athletic Footwear was July 16, 2021; and the highest week was December 19–25, 2021.\n",
    "\n",
    "Finally, I conclude that either this data is suspect or the pandemic of 2020 really wreaked havoc with retail sales of athletic wear, as 2021 had more than 6 times the amount of datapoints than 2020."
   ]
  },
  {
   "cell_type": "code",
   "execution_count": null,
   "metadata": {},
   "outputs": [],
   "source": []
  }
 ],
 "metadata": {
  "kernelspec": {
   "display_name": "Python 3 (ipykernel)",
   "language": "python",
   "name": "python3"
  },
  "language_info": {
   "codemirror_mode": {
    "name": "ipython",
    "version": 3
   },
   "file_extension": ".py",
   "mimetype": "text/x-python",
   "name": "python",
   "nbconvert_exporter": "python",
   "pygments_lexer": "ipython3",
   "version": "3.10.13"
  }
 },
 "nbformat": 4,
 "nbformat_minor": 4
}
